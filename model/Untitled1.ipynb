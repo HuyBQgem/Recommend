{
 "cells": [
  {
   "cell_type": "code",
   "execution_count": 8,
   "id": "f20ee770",
   "metadata": {},
   "outputs": [],
   "source": [
    "import pandas as pd\n",
    "import missingno"
   ]
  },
  {
   "cell_type": "code",
   "execution_count": 9,
   "id": "d4c2cf4b",
   "metadata": {},
   "outputs": [
    {
     "name": "stderr",
     "output_type": "stream",
     "text": [
      "/home/admin1/.local/lib/python3.8/site-packages/IPython/core/interactiveshell.py:3221: DtypeWarning: Columns (0) have mixed types.Specify dtype option on import or set low_memory=False.\n",
      "  has_raised = await self.run_ast_nodes(code_ast.body, cell_name,\n",
      "/home/admin1/.local/lib/python3.8/site-packages/IPython/core/interactiveshell.py:3221: DtypeWarning: Columns (2) have mixed types.Specify dtype option on import or set low_memory=False.\n",
      "  has_raised = await self.run_ast_nodes(code_ast.body, cell_name,\n"
     ]
    }
   ],
   "source": [
    "df1 = pd.read_csv('log_film_0601_0605.csv')\n",
    "df2 = pd.read_csv('log_film_0605_0610.csv')\n",
    "df3 = pd.read_csv('log_film_0610_0615.csv')\n",
    "df4 = pd.read_csv('log_film_0615_0620.csv')\n",
    "df5 = pd.read_csv('log_film_0620_0625.csv')\n",
    "\n",
    "train_df = pd.concat([df1,df2,df3,df4,df5])\n",
    "train_df.dropna(inplace=True)"
   ]
  },
  {
   "cell_type": "code",
   "execution_count": 17,
   "id": "5be3f00b",
   "metadata": {},
   "outputs": [],
   "source": [
    "film_espisode = pd.read_csv('tv360_film_espisode.csv')\n",
    "film_series = pd.read_csv('tv360_film_series.csv')\n",
    "episode2series=dict(zip(film_espisode.episode_id,film_espisode.series_id))\n",
    "series_id_ls = film_series.series_id.unique()\n",
    "episode_id_ls = film_espisode.episode_id.unique()"
   ]
  },
  {
   "cell_type": "code",
   "execution_count": 46,
   "id": "890dcc5a",
   "metadata": {},
   "outputs": [
    {
     "data": {
      "text/plain": [
       "user_id                 object\n",
       "profile_id             float64\n",
       "content_id              object\n",
       "watch_duration         float64\n",
       "lognum                   int64\n",
       "pause_count              int64\n",
       "seek_count               int64\n",
       "change_volumn_count      int64\n",
       "partition                int64\n",
       "series_id              float64\n",
       "dtype: object"
      ]
     },
     "execution_count": 46,
     "metadata": {},
     "output_type": "execute_result"
    }
   ],
   "source": [
    "train_df.dtypes"
   ]
  },
  {
   "cell_type": "code",
   "execution_count": 13,
   "id": "2e8b54eb",
   "metadata": {},
   "outputs": [],
   "source": [
    "def convert_series_id(x,series_id_ls,episode_id_ls,episode2series):\n",
    "    if x in series_id_ls:\n",
    "        return x\n",
    "    elif x in episode_id_ls:\n",
    "        return episode2series[x]"
   ]
  },
  {
   "cell_type": "code",
   "execution_count": 19,
   "id": "2cd7b2b2",
   "metadata": {},
   "outputs": [
    {
     "name": "stderr",
     "output_type": "stream",
     "text": [
      "/tmp/ipykernel_3241776/860769408.py:2: FutureWarning: elementwise comparison failed; returning scalar instead, but in the future will perform elementwise comparison\n",
      "  if x in series_id_ls:\n",
      "/tmp/ipykernel_3241776/860769408.py:4: FutureWarning: elementwise comparison failed; returning scalar instead, but in the future will perform elementwise comparison\n",
      "  elif x in episode_id_ls:\n"
     ]
    }
   ],
   "source": [
    "train_df['series_id'] = train_df.content_id.apply(lambda x: convert_series_id(x))"
   ]
  },
  {
   "cell_type": "code",
   "execution_count": 23,
   "id": "fe0fa313",
   "metadata": {},
   "outputs": [],
   "source": [
    "train = train_df[['user_id','series_id','watch_duration']]"
   ]
  },
  {
   "cell_type": "code",
   "execution_count": 24,
   "id": "c33e2e2a",
   "metadata": {},
   "outputs": [
    {
     "data": {
      "text/plain": [
       "user_id   series_id\n",
       "0.0       851.0         30.0\n",
       "          1022.0        30.0\n",
       "          1289.0        30.0\n",
       "          1349.0       240.0\n",
       "          1406.0       660.0\n",
       "                       ...  \n",
       "99999910  9361.0        77.0\n",
       "99999937  15253.0        0.0\n",
       "          15310.0        0.0\n",
       "99999940  6546.0         0.0\n",
       "          6787.0         6.0\n",
       "Name: watch_duration, Length: 2385071, dtype: float64"
      ]
     },
     "execution_count": 24,
     "metadata": {},
     "output_type": "execute_result"
    }
   ],
   "source": [
    "x = train.groupby(['user_id','series_id'])['watch_duration'].sum()\n",
    "\n",
    "x"
   ]
  },
  {
   "cell_type": "code",
   "execution_count": 29,
   "id": "7ef6cd5b",
   "metadata": {},
   "outputs": [],
   "source": [
    "train = pd.DataFrame(data =list(x.index.values), columns=['user_id','series_id'] )\n",
    "train['watch_duration']= list(x.values)"
   ]
  },
  {
   "cell_type": "code",
   "execution_count": 31,
   "id": "1fb2b60e",
   "metadata": {},
   "outputs": [],
   "source": [
    "def rating(x):\n",
    "    if x >300:\n",
    "        return 5\n",
    "    else :\n",
    "        return x//60"
   ]
  },
  {
   "cell_type": "code",
   "execution_count": 32,
   "id": "9f726a94",
   "metadata": {},
   "outputs": [],
   "source": [
    "train['rate'] = train.watch_duration.apply(lambda x: rating(x))"
   ]
  },
  {
   "cell_type": "code",
   "execution_count": 36,
   "id": "1ea123ad",
   "metadata": {},
   "outputs": [],
   "source": [
    "out = train[['user_id','series_id','rate','watch_duration']]"
   ]
  },
  {
   "cell_type": "code",
   "execution_count": 57,
   "id": "d5253a10",
   "metadata": {},
   "outputs": [],
   "source": [
    "out = out[out['user_id']!='\"\"']"
   ]
  },
  {
   "cell_type": "code",
   "execution_count": 63,
   "id": "311ef90b",
   "metadata": {},
   "outputs": [],
   "source": [
    "out =out.astype('int')"
   ]
  },
  {
   "cell_type": "code",
   "execution_count": 60,
   "id": "7b17b901",
   "metadata": {},
   "outputs": [
    {
     "name": "stderr",
     "output_type": "stream",
     "text": [
      "/tmp/ipykernel_3241776/1357139521.py:1: SettingWithCopyWarning: \n",
      "A value is trying to be set on a copy of a slice from a DataFrame.\n",
      "Try using .loc[row_indexer,col_indexer] = value instead\n",
      "\n",
      "See the caveats in the documentation: https://pandas.pydata.org/pandas-docs/stable/user_guide/indexing.html#returning-a-view-versus-a-copy\n",
      "  out['user_id'] = out['user_id'].apply(lambda x: int(float(x)))\n"
     ]
    }
   ],
   "source": [
    "out['user_id'] = out['user_id'].apply(lambda x: int(float(x)))"
   ]
  },
  {
   "cell_type": "code",
   "execution_count": 64,
   "id": "8ce34867",
   "metadata": {},
   "outputs": [
    {
     "data": {
      "text/html": [
       "<div>\n",
       "<style scoped>\n",
       "    .dataframe tbody tr th:only-of-type {\n",
       "        vertical-align: middle;\n",
       "    }\n",
       "\n",
       "    .dataframe tbody tr th {\n",
       "        vertical-align: top;\n",
       "    }\n",
       "\n",
       "    .dataframe thead th {\n",
       "        text-align: right;\n",
       "    }\n",
       "</style>\n",
       "<table border=\"1\" class=\"dataframe\">\n",
       "  <thead>\n",
       "    <tr style=\"text-align: right;\">\n",
       "      <th></th>\n",
       "      <th>user_id</th>\n",
       "      <th>series_id</th>\n",
       "      <th>rate</th>\n",
       "      <th>watch_duration</th>\n",
       "    </tr>\n",
       "  </thead>\n",
       "  <tbody>\n",
       "    <tr>\n",
       "      <th>0</th>\n",
       "      <td>0</td>\n",
       "      <td>851</td>\n",
       "      <td>0</td>\n",
       "      <td>30</td>\n",
       "    </tr>\n",
       "    <tr>\n",
       "      <th>1</th>\n",
       "      <td>0</td>\n",
       "      <td>1022</td>\n",
       "      <td>0</td>\n",
       "      <td>30</td>\n",
       "    </tr>\n",
       "    <tr>\n",
       "      <th>2</th>\n",
       "      <td>0</td>\n",
       "      <td>1289</td>\n",
       "      <td>0</td>\n",
       "      <td>30</td>\n",
       "    </tr>\n",
       "    <tr>\n",
       "      <th>3</th>\n",
       "      <td>0</td>\n",
       "      <td>1349</td>\n",
       "      <td>4</td>\n",
       "      <td>240</td>\n",
       "    </tr>\n",
       "    <tr>\n",
       "      <th>4</th>\n",
       "      <td>0</td>\n",
       "      <td>1406</td>\n",
       "      <td>5</td>\n",
       "      <td>660</td>\n",
       "    </tr>\n",
       "    <tr>\n",
       "      <th>...</th>\n",
       "      <td>...</td>\n",
       "      <td>...</td>\n",
       "      <td>...</td>\n",
       "      <td>...</td>\n",
       "    </tr>\n",
       "    <tr>\n",
       "      <th>2385066</th>\n",
       "      <td>99999910</td>\n",
       "      <td>9361</td>\n",
       "      <td>1</td>\n",
       "      <td>77</td>\n",
       "    </tr>\n",
       "    <tr>\n",
       "      <th>2385067</th>\n",
       "      <td>99999937</td>\n",
       "      <td>15253</td>\n",
       "      <td>0</td>\n",
       "      <td>0</td>\n",
       "    </tr>\n",
       "    <tr>\n",
       "      <th>2385068</th>\n",
       "      <td>99999937</td>\n",
       "      <td>15310</td>\n",
       "      <td>0</td>\n",
       "      <td>0</td>\n",
       "    </tr>\n",
       "    <tr>\n",
       "      <th>2385069</th>\n",
       "      <td>99999940</td>\n",
       "      <td>6546</td>\n",
       "      <td>0</td>\n",
       "      <td>0</td>\n",
       "    </tr>\n",
       "    <tr>\n",
       "      <th>2385070</th>\n",
       "      <td>99999940</td>\n",
       "      <td>6787</td>\n",
       "      <td>0</td>\n",
       "      <td>6</td>\n",
       "    </tr>\n",
       "  </tbody>\n",
       "</table>\n",
       "<p>2384965 rows × 4 columns</p>\n",
       "</div>"
      ],
      "text/plain": [
       "          user_id  series_id  rate  watch_duration\n",
       "0               0        851     0              30\n",
       "1               0       1022     0              30\n",
       "2               0       1289     0              30\n",
       "3               0       1349     4             240\n",
       "4               0       1406     5             660\n",
       "...           ...        ...   ...             ...\n",
       "2385066  99999910       9361     1              77\n",
       "2385067  99999937      15253     0               0\n",
       "2385068  99999937      15310     0               0\n",
       "2385069  99999940       6546     0               0\n",
       "2385070  99999940       6787     0               6\n",
       "\n",
       "[2384965 rows x 4 columns]"
      ]
     },
     "execution_count": 64,
     "metadata": {},
     "output_type": "execute_result"
    }
   ],
   "source": [
    "out"
   ]
  },
  {
   "cell_type": "code",
   "execution_count": 65,
   "id": "4c259824",
   "metadata": {},
   "outputs": [],
   "source": [
    "out.to_csv('train.rating',index=False,header=False)"
   ]
  },
  {
   "cell_type": "code",
   "execution_count": null,
   "id": "f33e2ad9",
   "metadata": {},
   "outputs": [],
   "source": []
  }
 ],
 "metadata": {
  "kernelspec": {
   "display_name": "Python 3 (ipykernel)",
   "language": "python",
   "name": "python3"
  },
  "language_info": {
   "codemirror_mode": {
    "name": "ipython",
    "version": 3
   },
   "file_extension": ".py",
   "mimetype": "text/x-python",
   "name": "python",
   "nbconvert_exporter": "python",
   "pygments_lexer": "ipython3",
   "version": "3.8.10"
  }
 },
 "nbformat": 4,
 "nbformat_minor": 5
}
