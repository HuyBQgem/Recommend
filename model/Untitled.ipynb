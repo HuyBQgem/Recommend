{
 "cells": [
  {
   "cell_type": "code",
   "execution_count": 1,
   "id": "f1943622",
   "metadata": {},
   "outputs": [],
   "source": [
    "import pandas as pd\n",
    "import numpy as np\n"
   ]
  },
  {
   "cell_type": "code",
   "execution_count": 3,
   "id": "325b4b98",
   "metadata": {},
   "outputs": [
    {
     "data": {
      "text/plain": [
       "'/mnt/md0/sources/HuyBQ/LOCA/data_log'"
      ]
     },
     "execution_count": 3,
     "metadata": {},
     "output_type": "execute_result"
    }
   ],
   "source": [
    "pwd"
   ]
  },
  {
   "cell_type": "code",
   "execution_count": 2,
   "id": "5c059af1",
   "metadata": {
    "scrolled": true
   },
   "outputs": [
    {
     "name": "stdout",
     "output_type": "stream",
     "text": [
      "(941610, 9)\n"
     ]
    },
    {
     "name": "stderr",
     "output_type": "stream",
     "text": [
      "/home/admin1/.local/lib/python3.8/site-packages/IPython/core/interactiveshell.py:3221: DtypeWarning: Columns (0) have mixed types.Specify dtype option on import or set low_memory=False.\n",
      "  has_raised = await self.run_ast_nodes(code_ast.body, cell_name,\n"
     ]
    },
    {
     "name": "stdout",
     "output_type": "stream",
     "text": [
      "(1331189, 9)\n",
      "(1574187, 9)\n",
      "(1200599, 9)\n"
     ]
    },
    {
     "data": {
      "text/html": [
       "<div>\n",
       "<style scoped>\n",
       "    .dataframe tbody tr th:only-of-type {\n",
       "        vertical-align: middle;\n",
       "    }\n",
       "\n",
       "    .dataframe tbody tr th {\n",
       "        vertical-align: top;\n",
       "    }\n",
       "\n",
       "    .dataframe thead th {\n",
       "        text-align: right;\n",
       "    }\n",
       "</style>\n",
       "<table border=\"1\" class=\"dataframe\">\n",
       "  <thead>\n",
       "    <tr style=\"text-align: right;\">\n",
       "      <th></th>\n",
       "      <th>index</th>\n",
       "      <th>user_id</th>\n",
       "      <th>profile_id</th>\n",
       "      <th>content_id</th>\n",
       "      <th>watch_duration</th>\n",
       "      <th>lognum</th>\n",
       "      <th>pause_count</th>\n",
       "      <th>seek_count</th>\n",
       "      <th>change_volumn_count</th>\n",
       "      <th>partition</th>\n",
       "    </tr>\n",
       "  </thead>\n",
       "  <tbody>\n",
       "    <tr>\n",
       "      <th>0</th>\n",
       "      <td>0</td>\n",
       "      <td>0</td>\n",
       "      <td>0.0</td>\n",
       "      <td>483094.0</td>\n",
       "      <td>1320.0</td>\n",
       "      <td>3</td>\n",
       "      <td>0</td>\n",
       "      <td>70</td>\n",
       "      <td>0</td>\n",
       "      <td>20220601</td>\n",
       "    </tr>\n",
       "    <tr>\n",
       "      <th>1</th>\n",
       "      <td>1</td>\n",
       "      <td>0</td>\n",
       "      <td>0.0</td>\n",
       "      <td>32471.0</td>\n",
       "      <td>1440.0</td>\n",
       "      <td>1</td>\n",
       "      <td>0</td>\n",
       "      <td>3</td>\n",
       "      <td>0</td>\n",
       "      <td>20220601</td>\n",
       "    </tr>\n",
       "    <tr>\n",
       "      <th>2</th>\n",
       "      <td>2</td>\n",
       "      <td>0</td>\n",
       "      <td>0.0</td>\n",
       "      <td>24866.0</td>\n",
       "      <td>630.0</td>\n",
       "      <td>3</td>\n",
       "      <td>0</td>\n",
       "      <td>94</td>\n",
       "      <td>0</td>\n",
       "      <td>20220601</td>\n",
       "    </tr>\n",
       "    <tr>\n",
       "      <th>3</th>\n",
       "      <td>3</td>\n",
       "      <td>100097419</td>\n",
       "      <td>100177477.0</td>\n",
       "      <td>13637.0</td>\n",
       "      <td>30.0</td>\n",
       "      <td>1</td>\n",
       "      <td>0</td>\n",
       "      <td>1</td>\n",
       "      <td>0</td>\n",
       "      <td>20220601</td>\n",
       "    </tr>\n",
       "    <tr>\n",
       "      <th>4</th>\n",
       "      <td>4</td>\n",
       "      <td>104424532</td>\n",
       "      <td>104510542.0</td>\n",
       "      <td>338206.0</td>\n",
       "      <td>1020.0</td>\n",
       "      <td>2</td>\n",
       "      <td>0</td>\n",
       "      <td>0</td>\n",
       "      <td>0</td>\n",
       "      <td>20220601</td>\n",
       "    </tr>\n",
       "    <tr>\n",
       "      <th>...</th>\n",
       "      <td>...</td>\n",
       "      <td>...</td>\n",
       "      <td>...</td>\n",
       "      <td>...</td>\n",
       "      <td>...</td>\n",
       "      <td>...</td>\n",
       "      <td>...</td>\n",
       "      <td>...</td>\n",
       "      <td>...</td>\n",
       "      <td>...</td>\n",
       "    </tr>\n",
       "    <tr>\n",
       "      <th>5047580</th>\n",
       "      <td>1200594</td>\n",
       "      <td>145392676</td>\n",
       "      <td>145524955.0</td>\n",
       "      <td>419734.0</td>\n",
       "      <td>2739.0</td>\n",
       "      <td>1</td>\n",
       "      <td>1</td>\n",
       "      <td>0</td>\n",
       "      <td>0</td>\n",
       "      <td>20220619</td>\n",
       "    </tr>\n",
       "    <tr>\n",
       "      <th>5047581</th>\n",
       "      <td>1200595</td>\n",
       "      <td>27503548</td>\n",
       "      <td>27530368.0</td>\n",
       "      <td>6755.0</td>\n",
       "      <td>300.0</td>\n",
       "      <td>1</td>\n",
       "      <td>0</td>\n",
       "      <td>1</td>\n",
       "      <td>0</td>\n",
       "      <td>20220619</td>\n",
       "    </tr>\n",
       "    <tr>\n",
       "      <th>5047582</th>\n",
       "      <td>1200596</td>\n",
       "      <td>62590363</td>\n",
       "      <td>62632510.0</td>\n",
       "      <td>29087.0</td>\n",
       "      <td>60.0</td>\n",
       "      <td>1</td>\n",
       "      <td>0</td>\n",
       "      <td>1</td>\n",
       "      <td>0</td>\n",
       "      <td>20220619</td>\n",
       "    </tr>\n",
       "    <tr>\n",
       "      <th>5047583</th>\n",
       "      <td>1200597</td>\n",
       "      <td>62590363</td>\n",
       "      <td>62632510.0</td>\n",
       "      <td>594794.0</td>\n",
       "      <td>30.0</td>\n",
       "      <td>1</td>\n",
       "      <td>0</td>\n",
       "      <td>0</td>\n",
       "      <td>0</td>\n",
       "      <td>20220619</td>\n",
       "    </tr>\n",
       "    <tr>\n",
       "      <th>5047584</th>\n",
       "      <td>1200598</td>\n",
       "      <td>111300190</td>\n",
       "      <td>111395617.0</td>\n",
       "      <td>616394.0</td>\n",
       "      <td>1920.0</td>\n",
       "      <td>1</td>\n",
       "      <td>0</td>\n",
       "      <td>0</td>\n",
       "      <td>0</td>\n",
       "      <td>20220619</td>\n",
       "    </tr>\n",
       "  </tbody>\n",
       "</table>\n",
       "<p>5047585 rows × 10 columns</p>\n",
       "</div>"
      ],
      "text/plain": [
       "           index    user_id   profile_id  content_id  watch_duration  lognum  \\\n",
       "0              0          0          0.0    483094.0          1320.0       3   \n",
       "1              1          0          0.0     32471.0          1440.0       1   \n",
       "2              2          0          0.0     24866.0           630.0       3   \n",
       "3              3  100097419  100177477.0     13637.0            30.0       1   \n",
       "4              4  104424532  104510542.0    338206.0          1020.0       2   \n",
       "...          ...        ...          ...         ...             ...     ...   \n",
       "5047580  1200594  145392676  145524955.0    419734.0          2739.0       1   \n",
       "5047581  1200595   27503548   27530368.0      6755.0           300.0       1   \n",
       "5047582  1200596   62590363   62632510.0     29087.0            60.0       1   \n",
       "5047583  1200597   62590363   62632510.0    594794.0            30.0       1   \n",
       "5047584  1200598  111300190  111395617.0    616394.0          1920.0       1   \n",
       "\n",
       "         pause_count  seek_count  change_volumn_count  partition  \n",
       "0                  0          70                    0   20220601  \n",
       "1                  0           3                    0   20220601  \n",
       "2                  0          94                    0   20220601  \n",
       "3                  0           1                    0   20220601  \n",
       "4                  0           0                    0   20220601  \n",
       "...              ...         ...                  ...        ...  \n",
       "5047580            1           0                    0   20220619  \n",
       "5047581            0           1                    0   20220619  \n",
       "5047582            0           1                    0   20220619  \n",
       "5047583            0           0                    0   20220619  \n",
       "5047584            0           0                    0   20220619  \n",
       "\n",
       "[5047585 rows x 10 columns]"
      ]
     },
     "execution_count": 2,
     "metadata": {},
     "output_type": "execute_result"
    }
   ],
   "source": [
    "df1 = pd.read_csv(\"log_film_0601_0605.csv\")\n",
    "print(df1.shape)\n",
    "df2 = pd.read_csv(\"log_film_0605_0610.csv\")\n",
    "print(df2.shape)\n",
    "df3 = pd.read_csv(\"log_film_0610_0615.csv\")\n",
    "print(df3.shape)\n",
    "df4 = pd.read_csv(\"log_film_0615_0620.csv\")\n",
    "print(df4.shape)\n",
    "df = pd.concat([df1, df2, df3, df4], axis = 0)\n",
    "df = df.reset_index()\n",
    "df"
   ]
  },
  {
   "cell_type": "code",
   "execution_count": 14,
   "id": "5f856b21",
   "metadata": {},
   "outputs": [
    {
     "data": {
      "text/plain": [
       "Index(['index', 'user_id', 'profile_id', 'content_id', 'watch_duration',\n",
       "       'lognum', 'pause_count', 'seek_count', 'change_volumn_count',\n",
       "       'partition'],\n",
       "      dtype='object')"
      ]
     },
     "execution_count": 14,
     "metadata": {},
     "output_type": "execute_result"
    }
   ],
   "source": [
    "df.columns"
   ]
  },
  {
   "cell_type": "code",
   "execution_count": 17,
   "id": "d5ea1f39",
   "metadata": {},
   "outputs": [
    {
     "data": {
      "text/plain": [
       "(2441798, 10)"
      ]
     },
     "execution_count": 17,
     "metadata": {},
     "output_type": "execute_result"
    }
   ],
   "source": [
    "df[df[\"watch_duration\"] >= 300].shape"
   ]
  },
  {
   "cell_type": "code",
   "execution_count": 6,
   "id": "d9953d17",
   "metadata": {},
   "outputs": [
    {
     "ename": "TypeError",
     "evalue": "'int' object is not subscriptable",
     "output_type": "error",
     "traceback": [
      "\u001b[0;31m---------------------------------------------------------------------------\u001b[0m",
      "\u001b[0;31mTypeError\u001b[0m                                 Traceback (most recent call last)",
      "Cell \u001b[0;32mIn[6], line 4\u001b[0m\n\u001b[1;32m      2\u001b[0m data \u001b[38;5;241m=\u001b[39m data\u001b[38;5;241m.\u001b[39mrename(columns \u001b[38;5;241m=\u001b[39m {\u001b[38;5;124m\"\u001b[39m\u001b[38;5;124mcontent_id\u001b[39m\u001b[38;5;124m\"\u001b[39m: \u001b[38;5;124m\"\u001b[39m\u001b[38;5;124mmovie_id\u001b[39m\u001b[38;5;124m\"\u001b[39m, \u001b[38;5;124m\"\u001b[39m\u001b[38;5;124mwatch_duration\u001b[39m\u001b[38;5;124m\"\u001b[39m:\u001b[38;5;124m\"\u001b[39m\u001b[38;5;124mtime\u001b[39m\u001b[38;5;124m\"\u001b[39m})\n\u001b[1;32m      3\u001b[0m data \u001b[38;5;241m=\u001b[39m data[[\u001b[38;5;124m\"\u001b[39m\u001b[38;5;124muser_id\u001b[39m\u001b[38;5;124m\"\u001b[39m,\u001b[38;5;124m\"\u001b[39m\u001b[38;5;124mmovie_id\u001b[39m\u001b[38;5;124m\"\u001b[39m,\u001b[38;5;124m\"\u001b[39m\u001b[38;5;124mtime\u001b[39m\u001b[38;5;124m\"\u001b[39m]]\n\u001b[0;32m----> 4\u001b[0m data[\u001b[38;5;124m\"\u001b[39m\u001b[38;5;124mrating\u001b[39m\u001b[38;5;124m\"\u001b[39m] \u001b[38;5;241m=\u001b[39m [\u001b[38;5;241m1\u001b[39m \u001b[38;5;28;01mif\u001b[39;00m data\u001b[38;5;241m.\u001b[39mloc[x, \u001b[38;5;124m\"\u001b[39m\u001b[38;5;124mtime\u001b[39m\u001b[38;5;124m\"\u001b[39m] \u001b[38;5;241m>\u001b[39m\u001b[38;5;241m=\u001b[39m \u001b[38;5;241m300\u001b[39m \u001b[38;5;28;01melse\u001b[39;00m \u001b[38;5;241m0\u001b[39m \u001b[38;5;28;01mfor\u001b[39;00m x \u001b[38;5;129;01min\u001b[39;00m \u001b[38;5;28mrange\u001b[39m(\u001b[38;5;28;43mlen\u001b[39;49m\u001b[43m(\u001b[49m\u001b[43mdata\u001b[49m\u001b[38;5;241;43m.\u001b[39;49m\u001b[43mshape\u001b[49m\u001b[43m)\u001b[49m\u001b[43m[\u001b[49m\u001b[38;5;241;43m0\u001b[39;49m\u001b[43m]\u001b[49m)]\n\u001b[1;32m      5\u001b[0m data\n",
      "\u001b[0;31mTypeError\u001b[0m: 'int' object is not subscriptable"
     ]
    }
   ],
   "source": [
    "data = df[df[\"watch_duration\"] >= 300]\n",
    "data = data.rename(columns = {\"content_id\": \"movie_id\", \"watch_duration\":\"time\"})\n",
    "data = data[[\"user_id\",\"movie_id\",\"time\"]]\n",
    "data"
   ]
  }
 ],
 "metadata": {
  "kernelspec": {
   "display_name": "Python 3 (ipykernel)",
   "language": "python",
   "name": "python3"
  },
  "language_info": {
   "codemirror_mode": {
    "name": "ipython",
    "version": 3
   },
   "file_extension": ".py",
   "mimetype": "text/x-python",
   "name": "python",
   "nbconvert_exporter": "python",
   "pygments_lexer": "ipython3",
   "version": "3.8.10"
  }
 },
 "nbformat": 4,
 "nbformat_minor": 5
}
